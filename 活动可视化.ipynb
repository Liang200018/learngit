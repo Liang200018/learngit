{
 "cells": [
  {
   "cell_type": "code",
   "execution_count": 3,
   "metadata": {},
   "outputs": [
    {
     "name": "stdout",
     "output_type": "stream",
     "text": [
      "((8,),)\n",
      "((30,),)\n",
      "((27,),)\n"
     ]
    }
   ],
   "source": [
    "\n",
    "import pymysql\n",
    "#连接数据库\n",
    "db = pymysql.connect(host=\"rm-uf6ua72q394fq6v9q9o.mysql.rds.aliyuncs.com\",port=3306,user=\"data_analyse\",password=\"et_data_analyse\",database=\"ccnu_main_test\",charset=\"utf8\")\n",
    "#使用cursor()方法创建一个游标对象\n",
    "cursor = db.cursor()\n",
    "#cursor=pymysql.cursors.DictCursor\n",
    "\n",
    "sql1='''\n",
    "select count(*) as number_nine\n",
    "from et_activity\n",
    "where date(enroll_start_time) between '2019-09-01' and '2019-09-30';\n",
    "'''\n",
    "#使用execute()方法执行SQL语句\n",
    "cursor.execute(sql1)\n",
    "data_nine = cursor.fetchall()\n",
    "print(data_nine)\n",
    "db.rollback()\n",
    "\n",
    "sql2='''\n",
    "select count(*) as number_ten\n",
    "from et_activity\n",
    "where date(enroll_start_time) between '2019-10-01' and '2019-10-31';\n",
    "'''\n",
    "#使用execute()方法执行SQL语句\n",
    "cursor.execute(sql2)\n",
    "data_ten = cursor.fetchall()\n",
    "print(data_ten)\n",
    "db.rollback()\n",
    "\n",
    "sql3='''\n",
    "select count(*) as number_eleven\n",
    "from et_activity\n",
    "where date(enroll_start_time) between '2019-11-01' and '2019-11-30';\n",
    "'''\n",
    "#使用execute()方法执行SQL语句\n",
    "cursor.execute(sql3)\n",
    "data_eleven = cursor.fetchall()\n",
    "print(data_eleven)\n",
    "db.rollback()\n",
    "\n",
    "#关闭游标和数据库的连接\n",
    "cursor.close()\n",
    "db.close()\n",
    "\n"
   ]
  },
  {
   "cell_type": "code",
   "execution_count": 22,
   "metadata": {},
   "outputs": [
    {
     "data": {
      "text/plain": [
       "<BarContainer object of 3 artists>"
      ]
     },
     "execution_count": 22,
     "metadata": {},
     "output_type": "execute_result"
    },
    {
     "data": {
      "image/png": "[encoded data removed]",
      "text/plain": [
       "<Figure size 432x288 with 2 Axes>"
      ]
     },
     "metadata": {
      "needs_background": "light"
     },
     "output_type": "display_data"
    }
   ],
   "source": [
    "import matplotlib.pyplot as plt\n",
    "plt.rcParams['font.sans-serif']=['SimHei'] #用来正常显示中文标签\n",
    "#折线图和柱形图\n",
    "\n",
    "activity_number=[]\n",
    "#活动数目列表\n",
    "activity_number.append(data_nine[0][0])\n",
    "activity_number.append(data_ten[0][0])\n",
    "activity_number.append(data_eleven[0][0])\n",
    "activity_month=['9','10','11']\n",
    "\n",
    "plt.title(\"activity number monthly\",fontsize=24)\n",
    "plt.xlabel(\"月份\",fontsize=14)#设置轴的名称\n",
    "plt.ylabel(\"活动数目\",fontsize=14)\n",
    "plt.ylim(0,50)#设置y值界限\n",
    "\n",
    "#text()添加数据标签\n",
    "for x,y in zip(activity_month,activity_number):\n",
    "    plt.text(x,y-2.5,'%.0f'%y)\n",
    "plt.plot(activity_month,activity_number)\n",
    "\n",
    "#绘制柱形图\n",
    "plt2 = plt.twinx()  # 组合图\n",
    "plt2.bar(activity_month,activity_number , alpha=0.2, width=0.5,color='y')"
   ]
  },
  {
   "cell_type": "code",
   "execution_count": null,
   "metadata": {},
   "outputs": [],
   "source": []
  },
  {
   "cell_type": "code",
   "execution_count": null,
   "metadata": {},
   "outputs": [],
   "source": []
  }
 ],
 "metadata": {
  "kernelspec": {
   "display_name": "Python 3",
   "language": "python",
   "name": "python3"
  },
  "language_info": {
   "codemirror_mode": {
    "name": "ipython",
    "version": 3
   },
   "file_extension": ".py",
   "mimetype": "text/x-python",
   "name": "python",
   "nbconvert_exporter": "python",
   "pygments_lexer": "ipython3",
   "version": "3.7.4"
  }
 },
 "nbformat": 4,
 "nbformat_minor": 2
}
